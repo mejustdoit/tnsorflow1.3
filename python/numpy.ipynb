{
 "cells": [
  {
   "cell_type": "markdown",
   "metadata": {},
   "source": [
    "### numpy使用\n",
    "> 使用numpy相关函数"
   ]
  },
  {
   "cell_type": "code",
   "execution_count": 53,
   "metadata": {},
   "outputs": [
    {
     "name": "stdout",
     "output_type": "stream",
     "text": [
      "[1, 2, 3, 4, 4]\n",
      "(5,)\n",
      "[[0. 0. 0. 0. 0. 0. 0. 0.]\n",
      " [0. 0. 0. 0. 0. 0. 0. 0.]]\n",
      "[[[-0.00000000e+000  2.68678506e+154  4.44659081e-323]\n",
      "  [ 0.00000000e+000  0.00000000e+000  0.00000000e+000]\n",
      "  [ 0.00000000e+000  4.94065646e-324  2.12199579e-314]]\n",
      "\n",
      " [[ 0.00000000e+000  2.12199579e-314  2.18570311e-314]\n",
      "  [ 0.00000000e+000  0.00000000e+000  0.00000000e+000]\n",
      "  [ 2.18570311e-314  2.18570311e-314  1.25160405e-308]]]\n",
      "[1 2 3 4]\n",
      "[3 4]\n",
      "[1 2]\n",
      "2.8\n",
      "14\n",
      "0.10393071605716499\n"
     ]
    }
   ],
   "source": [
    "import numpy as np\n",
    "data = [1,2,3,4]\n",
    "data.append(4)\n",
    "print(data)\n",
    "arr = np.array(data)\n",
    "print(arr.shape)\n",
    "print(np.zeros((2,8)))\n",
    "print(np.empty((2,3,3)))\n",
    "print(arr[0:-1])\n",
    "print(arr[-3:-1])\n",
    "print(arr[:2])\n",
    "print(arr.mean())\n",
    "print(arr.sum(0))\n",
    "rnd_arr = np.random.randn(7,4)\n",
    "print(rnd_arr.mean())\n"
   ]
  },
  {
   "cell_type": "code",
   "execution_count": 43,
   "metadata": {},
   "outputs": [
    {
     "name": "stdout",
     "output_type": "stream",
     "text": [
      "[[-1.41104963 -1.4663973  -0.21878198  0.29088529]\n",
      " [-1.30382217  0.2655209  -0.07837415 -1.21473108]\n",
      " [-1.78414805  0.42763596 -0.02951698  0.8961963 ]\n",
      " [ 1.20081597  0.85000954  1.07181053  0.06691148]\n",
      " [-0.01344792  1.21659777 -1.16704537 -0.97813761]\n",
      " [-0.28346981  0.80046104 -0.04405093 -0.04600195]\n",
      " [-0.49633215 -0.74552287  0.37010187  2.68435613]]\n",
      "[[ 1.41104963  1.4663973   0.21878198 -0.29088529]\n",
      " [-1.20081597 -0.85000954 -1.07181053 -0.06691148]\n",
      " [ 0.49633215  0.74552287 -0.37010187 -2.68435613]]\n",
      "[[-1.41104963 -1.4663973 ]\n",
      " [ 1.20081597  0.85000954]\n",
      " [-0.49633215 -0.74552287]]\n"
     ]
    }
   ],
   "source": [
    "name_arr = np.array(['bob','will','joe','bob','will','joe','bob'])\n",
    "rnd_arr = np.random.randn(7,4)\n",
    "print(rnd_arr)\n",
    "print(-(rnd_arr[name_arr == 'bob']))\n",
    "print(rnd_arr[name_arr == 'bob',:2])"
   ]
  }
 ],
 "metadata": {
  "kernelspec": {
   "display_name": "py3",
   "language": "python",
   "name": "py3"
  },
  "language_info": {
   "codemirror_mode": {
    "name": "ipython",
    "version": 3
   },
   "file_extension": ".py",
   "mimetype": "text/x-python",
   "name": "python",
   "nbconvert_exporter": "python",
   "pygments_lexer": "ipython3",
   "version": "3.7.2"
  }
 },
 "nbformat": 4,
 "nbformat_minor": 2
}
