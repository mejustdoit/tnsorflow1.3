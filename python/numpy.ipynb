{
 "cells": [
  {
   "cell_type": "markdown",
   "metadata": {},
   "source": [
    "### numpy使用\n",
    "> 使用numpy相关函数"
   ]
  },
  {
   "cell_type": "code",
   "execution_count": 1,
   "metadata": {},
   "outputs": [
    {
     "name": "stdout",
     "output_type": "stream",
     "text": [
      "[1, 2, 3, 4, 4]\n",
      "(5,)\n",
      "[[0. 0. 0. 0. 0. 0. 0. 0.]\n",
      " [0. 0. 0. 0. 0. 0. 0. 0.]]\n",
      "[[[4.64109699e-310 4.64109709e-310 3.95252517e-322]\n",
      "  [3.16202013e-322 4.64109710e-310 6.94958600e-310]\n",
      "  [6.94958600e-310 6.94958600e-310 6.94958600e-310]]\n",
      "\n",
      " [[6.94958600e-310 6.94958600e-310 6.37344683e-322]\n",
      "  [6.94959059e-310 4.64109709e-310 6.94958600e-310]\n",
      "  [6.94958600e-310 6.94958690e-310 6.94958600e-310]]]\n",
      "[1 2 3 4]\n",
      "[3 4]\n",
      "[1 2]\n",
      "2.8\n",
      "14\n",
      "0.10223519817111255\n"
     ]
    }
   ],
   "source": [
    "import numpy as np\n",
    "data = [1,2,3,4]\n",
    "data.append(4)\n",
    "print(data)\n",
    "arr = np.array(data)\n",
    "print(arr.shape)\n",
    "print(np.zeros((2,8)))\n",
    "print(np.empty((2,3,3)))\n",
    "print(arr[0:-1])\n",
    "print(arr[-3:-1])\n",
    "print(arr[:2])\n",
    "print(arr.mean())\n",
    "print(arr.sum(0))\n",
    "rnd_arr = np.random.randn(7,4)\n",
    "print(rnd_arr.mean())\n"
   ]
  },
  {
   "cell_type": "code",
   "execution_count": 2,
   "metadata": {},
   "outputs": [
    {
     "name": "stdout",
     "output_type": "stream",
     "text": [
      "[[-2.61871998  0.34818375  1.32337071  0.47494274]\n",
      " [ 0.9509322  -0.18798561  0.20021169 -0.0631376 ]\n",
      " [-0.75778114 -0.84102186 -0.02562566 -1.05013998]\n",
      " [ 1.18134638 -0.54374316 -1.60184538  0.59348285]\n",
      " [-0.99625402 -0.0641303  -0.3512148   0.71407034]\n",
      " [ 0.05850932 -0.08845026 -0.38062437  0.56017061]\n",
      " [ 0.30315394  0.76724306  0.96899404 -0.10590187]]\n",
      "[[ 2.61871998 -0.34818375 -1.32337071 -0.47494274]\n",
      " [-1.18134638  0.54374316  1.60184538 -0.59348285]\n",
      " [-0.30315394 -0.76724306 -0.96899404  0.10590187]]\n",
      "[[-2.61871998  0.34818375]\n",
      " [ 1.18134638 -0.54374316]\n",
      " [ 0.30315394  0.76724306]]\n"
     ]
    }
   ],
   "source": [
    "name_arr = np.array(['bob','will','joe','bob','will','joe','bob'])\n",
    "rnd_arr = np.random.randn(7,4)\n",
    "print(rnd_arr)\n",
    "print(-(rnd_arr[name_arr == 'bob']))\n",
    "print(rnd_arr[name_arr == 'bob',:2])"
   ]
  }
 ],
 "metadata": {
  "kernelspec": {
   "display_name": "py3",
   "language": "python",
   "name": "py3"
  },
  "language_info": {
   "codemirror_mode": {
    "name": "ipython",
    "version": 3
   },
   "file_extension": ".py",
   "mimetype": "text/x-python",
   "name": "python",
   "nbconvert_exporter": "python",
   "pygments_lexer": "ipython3",
   "version": "3.7.3"
  }
 },
 "nbformat": 4,
 "nbformat_minor": 2
}
