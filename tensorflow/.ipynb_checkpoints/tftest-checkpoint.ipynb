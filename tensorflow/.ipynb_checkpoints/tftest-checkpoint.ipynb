{
 "cells": [
  {
   "cell_type": "code",
   "execution_count": 1,
   "metadata": {},
   "outputs": [
    {
     "name": "stdout",
     "output_type": "stream",
     "text": [
      "[[2.4 2.4 3.  4. ]\n",
      " [5.  6.  6.8 6.8]]\n",
      "[[0.        0.6931472 1.0986123 1.3862944]\n",
      " [1.609438  1.7917595 1.9459102 2.0794415]]\n",
      "4.5\n"
     ]
    }
   ],
   "source": [
    "import tensorflow as tf\n",
    "m = tf.constant([[1.0,2.0,3.0,4.0],[5.0,6.0,7.0,8.0]])\n",
    "cross_entry = - tf.reduce_mean(m)\n",
    "with tf.Session() as sess:\n",
    "    print(tf.clip_by_value(m,2.4,6.8).eval())\n",
    "    print(tf.log(m).eval())\n",
    "    print(tf.reduce_mean(m).eval())\n",
    "\n",
    "    "
   ]
  }
 ],
 "metadata": {
  "kernelspec": {
   "display_name": "py3",
   "language": "python",
   "name": "py3"
  },
  "language_info": {
   "codemirror_mode": {
    "name": "ipython",
    "version": 3
   },
   "file_extension": ".py",
   "mimetype": "text/x-python",
   "name": "python",
   "nbconvert_exporter": "python",
   "pygments_lexer": "ipython3",
   "version": "3.7.3"
  }
 },
 "nbformat": 4,
 "nbformat_minor": 2
}
