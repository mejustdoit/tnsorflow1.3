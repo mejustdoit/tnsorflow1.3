{
 "cells": [
  {
   "cell_type": "code",
   "execution_count": 9,
   "metadata": {},
   "outputs": [
    {
     "name": "stdout",
     "output_type": "stream",
     "text": [
      "<tf.Variable 'Variable_13:0' shape=(2, 3) dtype=float32_ref>\n",
      "<tf.Variable 'Variable_14:0' shape=(3, 1) dtype=float32_ref>\n",
      "Tensor(\"MatMul_10:0\", shape=(1, 1), dtype=float32)\n",
      "[[7.2020965]]\n",
      "WARNING:tensorflow:From <ipython-input-9-a5552b067242>:22: all_variables (from tensorflow.python.ops.variables) is deprecated and will be removed after 2017-03-02.\n",
      "Instructions for updating:\n",
      "Please use tf.global_variables instead.\n",
      "[<tf.Variable 'Variable:0' shape=(2, 3) dtype=float32_ref>, <tf.Variable 'Variable_1:0' shape=(2, 3) dtype=float32_ref>, <tf.Variable 'Variable_2:0' shape=(3, 1) dtype=float32_ref>, <tf.Variable 'Variable_3:0' shape=(2, 3) dtype=float32_ref>, <tf.Variable 'Variable_4:0' shape=(3, 1) dtype=float32_ref>, <tf.Variable 'Variable_5:0' shape=(2, 3) dtype=float32_ref>, <tf.Variable 'Variable_6:0' shape=(3, 1) dtype=float32_ref>, <tf.Variable 'Variable_7:0' shape=(2, 3) dtype=float32_ref>, <tf.Variable 'Variable_8:0' shape=(3, 1) dtype=float32_ref>, <tf.Variable 'Variable_9:0' shape=(2, 3) dtype=float32_ref>, <tf.Variable 'Variable_10:0' shape=(3, 1) dtype=float32_ref>, <tf.Variable 'Variable_11:0' shape=(2, 3) dtype=float32_ref>, <tf.Variable 'Variable_12:0' shape=(3, 1) dtype=float32_ref>, <tf.Variable 'Variable_13:0' shape=(2, 3) dtype=float32_ref>, <tf.Variable 'Variable_14:0' shape=(3, 1) dtype=float32_ref>]\n"
     ]
    }
   ],
   "source": [
    "import tensorflow as tf\n",
    "\n",
    "#输入常量矩阵\n",
    "x = tf.constant([[1.0,2.0]])\n",
    "\n",
    "#定义变量，当做参数\n",
    "#通过seed参数设定随机种子，确保每次结果不同\n",
    "w1 = tf.Variable(tf.random_normal([2,3], stddev=1, seed=1))\n",
    "w2 = tf.Variable(tf.random_normal([3,1], stddev=1, seed=1))\n",
    "print(w1)\n",
    "print(w2)\n",
    "\n",
    "#执行矩阵操作\n",
    "a = tf.matmul(x, w1)\n",
    "y = tf.matmul(a, w2)\n",
    "print(y)\n",
    "init_op = tf.global_variables_initializer()\n",
    "\n",
    "with tf.Session() as sess:\n",
    "    sess.run(init_op)\n",
    "    print(sess.run(y))\n",
    "    print(tf.all_variables())\n",
    "\n",
    "    "
   ]
  },
  {
   "cell_type": "code",
   "execution_count": null,
   "metadata": {},
   "outputs": [],
   "source": []
  }
 ],
 "metadata": {
  "kernelspec": {
   "display_name": "py3",
   "language": "python",
   "name": "py3"
  },
  "language_info": {
   "codemirror_mode": {
    "name": "ipython",
    "version": 3
   },
   "file_extension": ".py",
   "mimetype": "text/x-python",
   "name": "python",
   "nbconvert_exporter": "python",
   "pygments_lexer": "ipython3",
   "version": "3.7.2"
  }
 },
 "nbformat": 4,
 "nbformat_minor": 2
}
