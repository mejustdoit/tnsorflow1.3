{
 "cells": [
  {
   "cell_type": "markdown",
   "metadata": {},
   "source": [
    "### 全连接神经网络+L2正则"
   ]
  },
  {
   "cell_type": "code",
   "execution_count": 27,
   "metadata": {},
   "outputs": [],
   "source": [
    "import tensorflow as tf\n",
    "import numpy as np\n",
    "#定义训练轮数\n",
    "training_step = 30000\n",
    "#定义输入数据与标签并使用循环填充\n",
    "data = []\n",
    "label = []\n",
    "for i in range(200):\n",
    "    x1 = np.random.uniform(-1,1)\n",
    "    x2 = np.random.uniform(0,2)\n",
    "    np.random.normal\n",
    "    # 如果产生的点落在半径为1圆内label = 0 否则为1\n",
    "    if x1**2 + x2**2 <= 1:\n",
    "        data.append([np.random.normal(x1,0.1),np.random.normal(x2,0.1)])\n",
    "        label.append(0)\n",
    "    else:\n",
    "        data.append([np.random.normal(x1,0.1),np.random.normal(x2,0.1)])\n",
    "        label.append(1)\n"
   ]
  },
  {
   "cell_type": "markdown",
   "metadata": {},
   "source": [
    "#### numpy的hstack()用于在水平方向将元素堆叠起来 其原型numpy.hstack(tup),参数tup可以是原组、列表或者numpy数组\n",
    "#### 返回结果是numpy数组。reshape()参数为-1表示行列进行翻转。处理后结果data变成200x2,label变成200x1\n"
   ]
  },
  {
   "cell_type": "code",
   "execution_count": 32,
   "metadata": {},
   "outputs": [],
   "source": [
    "data = np.hstack(data).reshape(-1,2)\n",
    "label = np.hstack(label).reshape(-1,1) "
   ]
  },
  {
   "cell_type": "markdown",
   "metadata": {},
   "source": [
    "#### 定义前向传播隐层"
   ]
  },
  {
   "cell_type": "code",
   "execution_count": 34,
   "metadata": {},
   "outputs": [],
   "source": [
    "def hidden_layer(input_tensor, weight1, bias1, weight2, bias2, weight3, bias3):\n",
    "    layer1 = tf.nn.relu(tf.matmul(input_tensor, weight1) + bias1)\n",
    "    layer2 = tf.nn.relu(tf.matmul(layer1, weight2) + bias1)\n",
    "    layer3 = tf.nn.relu(tf.matmul(layer2, weight3) + bias3)\n",
    "    return layer3\n",
    "    "
   ]
  },
  {
   "cell_type": "markdown",
   "metadata": {},
   "source": [
    "##### placeholder是占位符，相当于一个形参。只有在被调用时才分配内存单元,在调用结束时,就会释放出所分配的内存单元。"
   ]
  },
  {
   "cell_type": "code",
   "execution_count": 36,
   "metadata": {},
   "outputs": [],
   "source": [
    "x = tf.placeholder(tf.float32, shape=(None,2),name=\"x-input\")\n",
    "y_ = tf.placeholder(tf.float32, shape=(None,1),name=\"y-output\")"
   ]
  },
  {
   "cell_type": "markdown",
   "metadata": {},
   "source": [
    "##### 定义权重参数和偏置参数\n",
    "```\n",
    "tf.truncated_normal(shape, mean, stddev) :shape表示生成张量的维度，mean是均值，stddev是标准差。\n",
    "```\n",
    "这个函数产生正太分布，均值和标准差自己设定。这是一个截断的产生正太分布的函数，就是说产生正太分布的值如果与\n",
    "均值的差值大于两倍的标准差，那就重新生成。\n",
    "\n",
    "在TensorFlow的世界里，变量的定义和初始化是分开的，所有关于图变量的赋值和计算都要通过tf.Session的run来\n",
    "进行。想要将所有图变量进行集体初始化时应该使用tf.global_variables_initializer。"
   ]
  },
  {
   "cell_type": "code",
   "execution_count": 40,
   "metadata": {},
   "outputs": [
    {
     "name": "stdout",
     "output_type": "stream",
     "text": [
      "200\n"
     ]
    }
   ],
   "source": [
    "weight1 = tf.Variable(tf.truncated_normal([2,10],stddev = 0.1))\n",
    "bias1 = tf.Variable(tf.constant(0.1, shape=[10]))\n",
    "\n",
    "weight2 = tf.Variable(tf.truncated_normal([10,10],stddev = 0.1))\n",
    "bias2 = tf.Variable(tf.constant(0.1, shape=[10]))\n",
    "\n",
    "weight3 = tf.Variable(tf.truncated_normal([10,1],stddev = 0.1))\n",
    "bias3 = tf.Variable(tf.constant(0.1, shape=[1]))\n",
    "\n",
    "# 获取data长度\n",
    "sample_size = len(data)\n",
    "print(sample_size)"
   ]
  },
  {
   "cell_type": "markdown",
   "metadata": {},
   "source": [
    "##### 得到隐层前向传播的结果"
   ]
  },
  {
   "cell_type": "code",
   "execution_count": 41,
   "metadata": {},
   "outputs": [],
   "source": [
    "y = hidden_layer(x, weight1, bias1, weight2, bias2, weight3, bias3)"
   ]
  },
  {
   "cell_type": "markdown",
   "metadata": {},
   "source": [
    "#### 定义MSE损失函数\n",
    "pow()函数用于计算幂函数，函数原型为pow(x,y,name=None),返回结果为x的y次幂\n",
    "本次使用（y_-y)^2用于衡量loss.\n",
    "tf.reduce_sum 降维求和"
   ]
  },
  {
   "cell_type": "code",
   "execution_count": 42,
   "metadata": {},
   "outputs": [],
   "source": [
    "error_loss = tf.reduce_sum(tf.pow(y_ - y, 2)) / sample_size\n",
    "\n",
    "#加入集合的操作\n",
    "tf.add_to_collection(\"losses\",error_loss)\n"
   ]
  },
  {
   "cell_type": "markdown",
   "metadata": {},
   "source": [
    "#### 在权重参数上实现L2正则化\n",
    "```\n",
    "tf.nn ：提供神经网络相关操作的支持，包括卷积操作（conv）、池化操作（pooling）、归一化、loss、分类操作、embedding、RNN、Evaluation。\n",
    "tf.layers：主要提供的高层的神经网络，主要和卷积相关的，个人感觉是对tf.nn的进一步封装，tf.nn会更底层一些。\n",
    "tf.contrib：tf.contrib.layers提供够将计算图中的网络层、正则化、摘要操作、是构建计算图的高级操作，但是tf.contrib包含不稳定和实验代码，\n",
    "有可能以后API会改变。\n",
    "tf.add_to_collection(‘list_name’, element)：将元素element添加到列表list_name中\n",
    "tf.get_collection(‘list_name’)：返回名称为list_name的列表\n",
    "tf.add_n(list)：将列表元素相加并返回\n",
    "````"
   ]
  },
  {
   "cell_type": "code",
   "execution_count": 51,
   "metadata": {},
   "outputs": [],
   "source": [
    "regularizer = tf.contrib.layers.l2_regularizer(0.01)\n",
    "regularization = regularizer(weight1) + regularizer(weight2) + regularizer(weight3)\n",
    "\n",
    "#加入集合操作\n",
    "tf.add_to_collection(\"losses\",regularization)\n",
    "#get_collecton()函数获取指定集合中的所有个体，这里是获取所有损失值，并在add_n()函数中进行加和\n",
    "loss = tf.add_n(tf.get_collection(\"losses\"))"
   ]
  },
  {
   "cell_type": "markdown",
   "metadata": {},
   "source": [
    "##### 定义优化器\n",
    "定义固定学习率为0.01\n"
   ]
  },
  {
   "cell_type": "code",
   "execution_count": 55,
   "metadata": {},
   "outputs": [
    {
     "name": "stdout",
     "output_type": "stream",
     "text": [
      "After 0 steps, mse_loss: 0.470480\n",
      "After 2000 steps, mse_loss: 0.119717\n",
      "After 4000 steps, mse_loss: 0.119303\n",
      "After 6000 steps, mse_loss: 0.119214\n",
      "After 8000 steps, mse_loss: 0.119194\n",
      "After 10000 steps, mse_loss: 0.119192\n",
      "After 12000 steps, mse_loss: 0.119191\n",
      "After 14000 steps, mse_loss: 0.119191\n",
      "After 16000 steps, mse_loss: 0.119191\n",
      "After 18000 steps, mse_loss: 0.119191\n",
      "After 20000 steps, mse_loss: 0.119191\n",
      "After 22000 steps, mse_loss: 0.119191\n",
      "After 24000 steps, mse_loss: 0.119191\n",
      "After 26000 steps, mse_loss: 0.119192\n",
      "After 28000 steps, mse_loss: 0.119191\n"
     ]
    }
   ],
   "source": [
    "train_op = tf.train.AdamOptimizer(0.001).minimize(loss)\n",
    "with tf.Session() as sess:\n",
    "    tf.global_variables_initializer().run()\n",
    "    #for循环中进行30000轮训练\n",
    "    for i in range(training_step):\n",
    "        sess.run(train_op, feed_dict = {x:data, y_:label})\n",
    "        # 训练30000轮，但每2000轮输出一次loss值\n",
    "        if i % 2000 == 0 :\n",
    "            loss_value = sess.run(loss, feed_dict={x:data, y_:label})\n",
    "            print(\"After %d steps, mse_loss: %f\"%(i, loss_value))"
   ]
  },
  {
   "cell_type": "code",
   "execution_count": null,
   "metadata": {},
   "outputs": [],
   "source": []
  }
 ],
 "metadata": {
  "kernelspec": {
   "display_name": "py3",
   "language": "python",
   "name": "py3"
  },
  "language_info": {
   "codemirror_mode": {
    "name": "ipython",
    "version": 3
   },
   "file_extension": ".py",
   "mimetype": "text/x-python",
   "name": "python",
   "nbconvert_exporter": "python",
   "pygments_lexer": "ipython3",
   "version": "3.7.2"
  }
 },
 "nbformat": 4,
 "nbformat_minor": 2
}
