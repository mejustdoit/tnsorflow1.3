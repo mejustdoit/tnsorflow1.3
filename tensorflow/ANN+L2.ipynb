{
 "cells": [
  {
   "cell_type": "markdown",
   "metadata": {},
   "source": [
    "### 全连接神经网络+L2正则"
   ]
  },
  {
   "cell_type": "code",
   "execution_count": null,
   "metadata": {},
   "outputs": [],
   "source": [
    "import tensorflow as tf\n",
    "import numpy as np\n",
    "#定义训练轮数\n",
    "training_step = 30000\n",
    "#定义输入数据与标签并使用循环填充\n",
    "data = []\n",
    "label = []\n",
    "for i in range(200):\n",
    "    x1 = np.random.uniform(-1,1)\n",
    "    x2 = np.random.uniform(0,2)\n",
    "    # 如果产生的点落在半径为1圆内label = 0 否则为1\n",
    "    if x1**2 + x2**2 <= 1:\n",
    "        data.append([np.random.normal(x1,0.1),np.random.normal(x2,0.1)])\n",
    "        label.append(0)\n",
    "        else:\n",
    "            data.append([np.random.normal(x1,0.1),np.random.normal(x2,0.1)])\n",
    "            label.append(1)\n",
    "        "
   ]
  }
 ],
 "metadata": {
  "kernelspec": {
   "display_name": "py3",
   "language": "python",
   "name": "py3"
  },
  "language_info": {
   "codemirror_mode": {
    "name": "ipython",
    "version": 3
   },
   "file_extension": ".py",
   "mimetype": "text/x-python",
   "name": "python",
   "nbconvert_exporter": "python",
   "pygments_lexer": "ipython3",
   "version": "3.7.3"
  }
 },
 "nbformat": 4,
 "nbformat_minor": 2
}
